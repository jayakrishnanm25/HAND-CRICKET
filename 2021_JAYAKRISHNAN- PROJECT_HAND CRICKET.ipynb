{
 "cells": [
  {
   "cell_type": "code",
   "execution_count": 11,
   "id": "9110239a-d58f-4796-8241-b0f60360ae9e",
   "metadata": {},
   "outputs": [
    {
     "name": "stdin",
     "output_type": "stream",
     "text": [
      "ODD or EVEN ? ODD\n",
      "toss idu bro 3\n"
     ]
    },
    {
     "name": "stdout",
     "output_type": "stream",
     "text": [
      "TOSS : YOU : 4\n",
      "TOSS : COM : 3\n"
     ]
    },
    {
     "name": "stdin",
     "output_type": "stream",
     "text": [
      "bowling or feilding ah ?? (type BATTING or BOWLING) BATTING\n",
      "you : BATTING innings 1 4\n"
     ]
    },
    {
     "name": "stdout",
     "output_type": "stream",
     "text": [
      "you : 4\n",
      "com : 4\n",
      "OUTTTT...\n",
      "TO DEFEND : 0\n"
     ]
    },
    {
     "name": "stdin",
     "output_type": "stream",
     "text": [
      "you : BOWLING innings 2 1\n"
     ]
    },
    {
     "name": "stdout",
     "output_type": "stream",
     "text": [
      "you : 1\n",
      "com : 4\n",
      "YOU LOST THE MATCH.:(\n"
     ]
    }
   ],
   "source": [
    "import random\n",
    "import math\n",
    "\n",
    "selected = input(\"ODD or EVEN ?\")\n",
    "\n",
    "bot_input = math.ceil(random.random()*6)\n",
    "human_input = int(input(\"toss idu bro\"))\n",
    "\n",
    "print(\"TOSS : YOU : \" + str(bot_input))\n",
    "print(\"TOSS : COM : \" + str(human_input))\n",
    "\n",
    "status = \"\"\n",
    "if selected  == \"EVEN\":\n",
    "    if((bot_input + int(human_input)) % 2==0):\n",
    "       status = input(\"bowling or \\nfielding ah ??\")\n",
    "    else :\n",
    "        choice = random.random()\n",
    "        if(choice < 0.5):\n",
    "            print(\"bot won the toss and choose to BAT\")\n",
    "            status = \"BOWLING\"\n",
    "        else:\n",
    "            print(\"bot won the toss and choose to BOWL\")\n",
    "            status= \"BATTING\"\n",
    "\n",
    "if selected == \"ODD\":\n",
    "    if((bot_input + int(human_input)) % 2==1):\n",
    "        status = input(\"bowling or feilding ah ?? (type BATTING or BOWLING)\")\n",
    "    else:\n",
    "        choice = random.random()\n",
    "        if(choice < 0.5):\n",
    "            print(\"bot won thw toss and choose to BAT\")\n",
    "            status=\"BOWLING\"\n",
    "        else:\n",
    "            print(\"bot won the toss and choose to BOWL\")\n",
    "            status=\"BATTING\"\n",
    "\n",
    "score = 0\n",
    "target = 1\n",
    "innings = 1\n",
    "\n",
    "while True:\n",
    "    human_input =int(input(\"you : \" + status + \" innings \" + str(innings)))\n",
    "    bot_imnput = math.ceil(random.random() * 6)  \n",
    "    print(\"you : \" + str(human_input))\n",
    "    print(\"com : \" + str(bot_input))\n",
    "\n",
    "    if(human_input == bot_input):\n",
    "        if(status ==\"BATTING\" and innings == 1):\n",
    "            status =\"BOWLING\"\n",
    "            innings= 2\n",
    "            print(\"OUTTTT...\")\n",
    "            print(\"TO DEFEND : \" + str(score))\n",
    "        elif(status == \"BOWLING\"  and innings ==1):\n",
    "            status= \"BATTING\"\n",
    "            innings= 2\n",
    "            print(\"OUTTTT...\")\n",
    "            print(\"TO GET : \" + str(target))\n",
    "        elif(status == \"BATTING\" and innings == 2):\n",
    "            print(\"OUTTTTT... BOT WON THE MATCH\")\n",
    "            break\n",
    "        elif(status == \"BOWLING\" and innings == 2):\n",
    "            print(\"OUTTTTT... YOU WON THE MATCH\")\n",
    "            break\n",
    "\n",
    "    else:\n",
    "        if(status == \"BATTING\" and innings == 1):\n",
    "            score = score + human_input\n",
    "            print(\"SCORE : \" + str(score))\n",
    "        elif(status == \"BATTING\" and innings == 2):\n",
    "            if(target - human_input > 0):\n",
    "                target = target - human_input\n",
    "                print(\"TO GET : \" + str(target))\n",
    "            else:\n",
    "                print(\"YOU WON THE MATCH..\")\n",
    "                break\n",
    "\n",
    "        elif(status == \"BOWLING\" and innings == 1):\n",
    "            target = target + bot_input\n",
    "            print(\"SCORE : \" + str(target))\n",
    "        elif(status == \"BOWLING\" and innings == 2):\n",
    "            if(score - bot_input > 0):\n",
    "                score = score - bot_input\n",
    "                print(\"TO DEFEND : \" + str(score))\n",
    "            else:\n",
    "                print(\"YOU LOST THE MATCH.:(\")\n",
    "                break\n",
    "            "
   ]
  }
 ],
 "metadata": {
  "kernelspec": {
   "display_name": "Python 3 (ipykernel)",
   "language": "python",
   "name": "python3"
  },
  "language_info": {
   "codemirror_mode": {
    "name": "ipython",
    "version": 3
   },
   "file_extension": ".py",
   "mimetype": "text/x-python",
   "name": "python",
   "nbconvert_exporter": "python",
   "pygments_lexer": "ipython3",
   "version": "3.12.7"
  }
 },
 "nbformat": 4,
 "nbformat_minor": 5
}
